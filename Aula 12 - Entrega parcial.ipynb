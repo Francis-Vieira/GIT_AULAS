{
 "cells": [
  {
   "cell_type": "markdown",
   "metadata": {},
   "source": [
    "# Entrega Parcial\n",
    "Primeira Entrega\n",
    "\n",
    "1. Escolher uma API da lista disponível:\n",
    "\n",
    "    https://brasilapi.com.br/api/fipe/marcas/v1/{tipoVeiculo}\n",
    "\n",
    "    https://brasilapi.com.br/api/fipe/preco/v1/{codigoFipe}\n",
    "2. Fazer a extração de pelo menos 3 tabelas: \n",
    "\n",
    "    https://brasilapi.com.br/api/fipe/marcas/v1/carros\n",
    "\n",
    "3. Criar um alerta de erro usando a função alerta()\n"
   ]
  },
  {
   "cell_type": "code",
   "execution_count": 4,
   "metadata": {},
   "outputs": [],
   "source": [
    "#importando bibliotecas\n",
    "import pandas as pd\n",
    "import requests"
   ]
  },
  {
   "cell_type": "code",
   "execution_count": 6,
   "metadata": {},
   "outputs": [],
   "source": [
    "#importando biblioteca de notificação e definindo\n",
    "from plyer import notification "
   ]
  },
  {
   "cell_type": "code",
   "execution_count": 7,
   "metadata": {},
   "outputs": [],
   "source": [
    "#importar datetime\n",
    "from datetime import datetime\n",
    "\n",
    "#definição do Alerta\n",
    "def Alerta_default(text1):\n",
    "    vNow = str(datetime.now())\n",
    "    text1 = \"API\"\n",
    "    msg_texto = f\"Erro ao acessar {text1} \\nOcorrência: {vNow}\"\n",
    "\n",
    "    notification.notify(\n",
    "            title=text1,\n",
    "            message=msg_texto,\n",
    "            app_name='teste',\n",
    "            timeout=10\n",
    "                        )"
   ]
  },
  {
   "cell_type": "code",
   "execution_count": null,
   "metadata": {},
   "outputs": [],
   "source": [
    "#Utilizando consumo da API para leitura dos dados e convertido em Data Frame\n",
    "url1 = \"https://brasilapi.com.br/api/fipe/marcas/v4\"\n",
    "response = requests.get(url1)\n",
    "if response.status_code == 200:\n",
    "    data1_json = response.json()\n",
    "else:\n",
    "    print(\"Erro ao acessar a API\\nErro: {}\".format(response.status_code))\n",
    "    #notification.notify(url1)\n",
    "#converter dados em Data Frame\n",
    "#pd.DataFrame(data1_json)"
   ]
  }
 ],
 "metadata": {
  "kernelspec": {
   "display_name": "Python 3",
   "language": "python",
   "name": "python3"
  },
  "language_info": {
   "codemirror_mode": {
    "name": "ipython",
    "version": 3
   },
   "file_extension": ".py",
   "mimetype": "text/x-python",
   "name": "python",
   "nbconvert_exporter": "python",
   "pygments_lexer": "ipython3",
   "version": "3.11.9"
  }
 },
 "nbformat": 4,
 "nbformat_minor": 2
}
