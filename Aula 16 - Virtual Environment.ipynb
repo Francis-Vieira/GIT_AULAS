{
 "cells": [
  {
   "cell_type": "markdown",
   "metadata": {},
   "source": [
    "# Virtual Environment"
   ]
  },
  {
   "cell_type": "code",
   "execution_count": 2,
   "metadata": {},
   "outputs": [
    {
     "name": "stdout",
     "output_type": "stream",
     "text": [
      "Collecting notification\n",
      "  Downloading notification-0.2.1.tar.gz (3.9 kB)\n",
      "  Installing build dependencies: started\n",
      "  Installing build dependencies: finished with status 'done'\n",
      "  Getting requirements to build wheel: started\n",
      "  Getting requirements to build wheel: finished with status 'done'\n",
      "  Preparing metadata (pyproject.toml): started\n",
      "  Preparing metadata (pyproject.toml): finished with status 'done'\n",
      "Building wheels for collected packages: notification\n",
      "  Building wheel for notification (pyproject.toml): started\n",
      "  Building wheel for notification (pyproject.toml): finished with status 'done'\n",
      "  Created wheel for notification: filename=notification-0.2.1-py3-none-any.whl size=6660 sha256=a57a52e40cbeb81675223f3a26d62f66e48671fa87dc03dbcfb7c919b94a0189\n",
      "  Stored in directory: c:\\users\\refli\\appdata\\local\\packages\\pythonsoftwarefoundation.python.3.11_qbz5n2kfra8p0\\localcache\\local\\pip\\cache\\wheels\\96\\ae\\3e\\700293ff058cb229263e820b09f7fe6528777e9fbb76cc332a\n",
      "Successfully built notification\n",
      "Installing collected packages: notification\n",
      "Successfully installed notification-0.2.1\n",
      "Note: you may need to restart the kernel to use updated packages.\n"
     ]
    }
   ],
   "source": [
    "pip install notification"
   ]
  },
  {
   "cell_type": "code",
   "execution_count": 3,
   "metadata": {},
   "outputs": [
    {
     "name": "stdout",
     "output_type": "stream",
     "text": [
      "Collecting plyer\n",
      "  Using cached plyer-2.1.0-py2.py3-none-any.whl.metadata (61 kB)\n",
      "Using cached plyer-2.1.0-py2.py3-none-any.whl (142 kB)\n",
      "Installing collected packages: plyer\n",
      "Successfully installed plyer-2.1.0\n",
      "Note: you may need to restart the kernel to use updated packages.\n"
     ]
    }
   ],
   "source": [
    "pip install plyer"
   ]
  },
  {
   "cell_type": "code",
   "execution_count": 4,
   "metadata": {},
   "outputs": [
    {
     "name": "stdout",
     "output_type": "stream",
     "text": [
      "Collecting pandas\n",
      "  Using cached pandas-2.2.3-cp311-cp311-win_amd64.whl.metadata (19 kB)\n",
      "Collecting numpy>=1.23.2 (from pandas)\n",
      "  Downloading numpy-2.2.0-cp311-cp311-win_amd64.whl.metadata (60 kB)\n",
      "Requirement already satisfied: python-dateutil>=2.8.2 in c:\\users\\refli\\onedrive\\documentos\\coderhouse - cientista de dados e python\\python\\git_aulas\\coderenv\\lib\\site-packages (from pandas) (2.9.0.post0)\n",
      "Collecting pytz>=2020.1 (from pandas)\n",
      "  Using cached pytz-2024.2-py2.py3-none-any.whl.metadata (22 kB)\n",
      "Collecting tzdata>=2022.7 (from pandas)\n",
      "  Using cached tzdata-2024.2-py2.py3-none-any.whl.metadata (1.4 kB)\n",
      "Requirement already satisfied: six>=1.5 in c:\\users\\refli\\onedrive\\documentos\\coderhouse - cientista de dados e python\\python\\git_aulas\\coderenv\\lib\\site-packages (from python-dateutil>=2.8.2->pandas) (1.17.0)\n",
      "Using cached pandas-2.2.3-cp311-cp311-win_amd64.whl (11.6 MB)\n",
      "Downloading numpy-2.2.0-cp311-cp311-win_amd64.whl (12.9 MB)\n",
      "   ---------------------------------------- 0.0/12.9 MB ? eta -:--:--\n",
      "   ------ --------------------------------- 2.1/12.9 MB 14.7 MB/s eta 0:00:01\n",
      "   --------------------- ------------------ 6.8/12.9 MB 19.1 MB/s eta 0:00:01\n",
      "   --------------------------------- ------ 10.7/12.9 MB 19.2 MB/s eta 0:00:01\n",
      "   ---------------------------------------- 12.9/12.9 MB 18.8 MB/s eta 0:00:00\n",
      "Using cached pytz-2024.2-py2.py3-none-any.whl (508 kB)\n",
      "Using cached tzdata-2024.2-py2.py3-none-any.whl (346 kB)\n",
      "Installing collected packages: pytz, tzdata, numpy, pandas\n",
      "Successfully installed numpy-2.2.0 pandas-2.2.3 pytz-2024.2 tzdata-2024.2\n",
      "Note: you may need to restart the kernel to use updated packages.\n"
     ]
    }
   ],
   "source": [
    "pip install pandas"
   ]
  },
  {
   "cell_type": "code",
   "execution_count": 6,
   "metadata": {},
   "outputs": [
    {
     "name": "stdout",
     "output_type": "stream",
     "text": [
      "Collecting requestsNote: you may need to restart the kernel to use updated packages.\n",
      "\n",
      "  Using cached requests-2.32.3-py3-none-any.whl.metadata (4.6 kB)\n",
      "Collecting charset-normalizer<4,>=2 (from requests)\n",
      "  Using cached charset_normalizer-3.4.0-cp311-cp311-win_amd64.whl.metadata (34 kB)\n",
      "Collecting idna<4,>=2.5 (from requests)\n",
      "  Using cached idna-3.10-py3-none-any.whl.metadata (10 kB)\n",
      "Collecting urllib3<3,>=1.21.1 (from requests)\n",
      "  Using cached urllib3-2.2.3-py3-none-any.whl.metadata (6.5 kB)\n",
      "Collecting certifi>=2017.4.17 (from requests)\n",
      "  Using cached certifi-2024.8.30-py3-none-any.whl.metadata (2.2 kB)\n",
      "Using cached requests-2.32.3-py3-none-any.whl (64 kB)\n",
      "Using cached certifi-2024.8.30-py3-none-any.whl (167 kB)\n",
      "Using cached charset_normalizer-3.4.0-cp311-cp311-win_amd64.whl (101 kB)\n",
      "Using cached idna-3.10-py3-none-any.whl (70 kB)\n",
      "Using cached urllib3-2.2.3-py3-none-any.whl (126 kB)\n",
      "Installing collected packages: urllib3, idna, charset-normalizer, certifi, requests\n",
      "Successfully installed certifi-2024.8.30 charset-normalizer-3.4.0 idna-3.10 requests-2.32.3 urllib3-2.2.3\n"
     ]
    }
   ],
   "source": [
    "pip install requests"
   ]
  },
  {
   "cell_type": "code",
   "execution_count": 7,
   "metadata": {},
   "outputs": [
    {
     "name": "stdout",
     "output_type": "stream",
     "text": [
      "Collecting missingnoNote: you may need to restart the kernel to use updated packages.\n",
      "\n",
      "  Using cached missingno-0.5.2-py3-none-any.whl.metadata (639 bytes)\n",
      "Requirement already satisfied: numpy in c:\\users\\refli\\onedrive\\documentos\\coderhouse - cientista de dados e python\\python\\git_aulas\\coderenv\\lib\\site-packages (from missingno) (2.2.0)\n",
      "Collecting matplotlib (from missingno)\n",
      "  Using cached matplotlib-3.9.3-cp311-cp311-win_amd64.whl.metadata (11 kB)\n",
      "Collecting scipy (from missingno)\n",
      "  Using cached scipy-1.14.1-cp311-cp311-win_amd64.whl.metadata (60 kB)\n",
      "Collecting seaborn (from missingno)\n",
      "  Using cached seaborn-0.13.2-py3-none-any.whl.metadata (5.4 kB)\n",
      "Collecting contourpy>=1.0.1 (from matplotlib->missingno)\n",
      "  Using cached contourpy-1.3.1-cp311-cp311-win_amd64.whl.metadata (5.4 kB)\n",
      "Collecting cycler>=0.10 (from matplotlib->missingno)\n",
      "  Using cached cycler-0.12.1-py3-none-any.whl.metadata (3.8 kB)\n",
      "Collecting fonttools>=4.22.0 (from matplotlib->missingno)\n",
      "  Using cached fonttools-4.55.3-cp311-cp311-win_amd64.whl.metadata (168 kB)\n",
      "Collecting kiwisolver>=1.3.1 (from matplotlib->missingno)\n",
      "  Using cached kiwisolver-1.4.7-cp311-cp311-win_amd64.whl.metadata (6.4 kB)\n",
      "Requirement already satisfied: packaging>=20.0 in c:\\users\\refli\\onedrive\\documentos\\coderhouse - cientista de dados e python\\python\\git_aulas\\coderenv\\lib\\site-packages (from matplotlib->missingno) (24.2)\n",
      "Collecting pillow>=8 (from matplotlib->missingno)\n",
      "  Using cached pillow-11.0.0-cp311-cp311-win_amd64.whl.metadata (9.3 kB)\n",
      "Collecting pyparsing>=2.3.1 (from matplotlib->missingno)\n",
      "  Using cached pyparsing-3.2.0-py3-none-any.whl.metadata (5.0 kB)\n",
      "Requirement already satisfied: python-dateutil>=2.7 in c:\\users\\refli\\onedrive\\documentos\\coderhouse - cientista de dados e python\\python\\git_aulas\\coderenv\\lib\\site-packages (from matplotlib->missingno) (2.9.0.post0)\n",
      "Requirement already satisfied: pandas>=1.2 in c:\\users\\refli\\onedrive\\documentos\\coderhouse - cientista de dados e python\\python\\git_aulas\\coderenv\\lib\\site-packages (from seaborn->missingno) (2.2.3)\n",
      "Requirement already satisfied: pytz>=2020.1 in c:\\users\\refli\\onedrive\\documentos\\coderhouse - cientista de dados e python\\python\\git_aulas\\coderenv\\lib\\site-packages (from pandas>=1.2->seaborn->missingno) (2024.2)\n",
      "Requirement already satisfied: tzdata>=2022.7 in c:\\users\\refli\\onedrive\\documentos\\coderhouse - cientista de dados e python\\python\\git_aulas\\coderenv\\lib\\site-packages (from pandas>=1.2->seaborn->missingno) (2024.2)\n",
      "Requirement already satisfied: six>=1.5 in c:\\users\\refli\\onedrive\\documentos\\coderhouse - cientista de dados e python\\python\\git_aulas\\coderenv\\lib\\site-packages (from python-dateutil>=2.7->matplotlib->missingno) (1.17.0)\n",
      "Using cached missingno-0.5.2-py3-none-any.whl (8.7 kB)\n",
      "Using cached matplotlib-3.9.3-cp311-cp311-win_amd64.whl (7.8 MB)\n",
      "Using cached scipy-1.14.1-cp311-cp311-win_amd64.whl (44.8 MB)\n",
      "Using cached seaborn-0.13.2-py3-none-any.whl (294 kB)\n",
      "Using cached contourpy-1.3.1-cp311-cp311-win_amd64.whl (219 kB)\n",
      "Using cached cycler-0.12.1-py3-none-any.whl (8.3 kB)\n",
      "Using cached fonttools-4.55.3-cp311-cp311-win_amd64.whl (2.2 MB)\n",
      "Using cached kiwisolver-1.4.7-cp311-cp311-win_amd64.whl (56 kB)\n",
      "Using cached pillow-11.0.0-cp311-cp311-win_amd64.whl (2.6 MB)\n",
      "Using cached pyparsing-3.2.0-py3-none-any.whl (106 kB)\n",
      "Installing collected packages: scipy, pyparsing, pillow, kiwisolver, fonttools, cycler, contourpy, matplotlib, seaborn, missingno\n",
      "Successfully installed contourpy-1.3.1 cycler-0.12.1 fonttools-4.55.3 kiwisolver-1.4.7 matplotlib-3.9.3 missingno-0.5.2 pillow-11.0.0 pyparsing-3.2.0 scipy-1.14.1 seaborn-0.13.2\n"
     ]
    }
   ],
   "source": [
    "pip install missingno"
   ]
  }
 ],
 "metadata": {
  "kernelspec": {
   "display_name": "CoderENV",
   "language": "python",
   "name": "python3"
  },
  "language_info": {
   "codemirror_mode": {
    "name": "ipython",
    "version": 3
   },
   "file_extension": ".py",
   "mimetype": "text/x-python",
   "name": "python",
   "nbconvert_exporter": "python",
   "pygments_lexer": "ipython3",
   "version": "3.11.9"
  }
 },
 "nbformat": 4,
 "nbformat_minor": 2
}
