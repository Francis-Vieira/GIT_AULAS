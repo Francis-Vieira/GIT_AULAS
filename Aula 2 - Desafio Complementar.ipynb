{
 "cells": [
  {
   "cell_type": "markdown",
   "metadata": {},
   "source": [
    "# Desafio Complementar"
   ]
  },
  {
   "cell_type": "markdown",
   "metadata": {},
   "source": [
    "Exercício 01"
   ]
  },
  {
   "cell_type": "code",
   "execution_count": 9,
   "metadata": {},
   "outputs": [
    {
     "name": "stdout",
     "output_type": "stream",
     "text": [
      "Seu IMC é: 24.67037636029714\n"
     ]
    }
   ],
   "source": [
    "# Calcular o IMC (Índice de Massa Corporal) de uma pessoa\n",
    "# Campos para pessoa informar o peso e altura\n",
    "Peso = float(input(\"Qual seu peso (separado por ponto)? \"))\n",
    "Altura = float(input(\"Qual sua altura (separado por ponto)? \"))\n",
    "\n",
    "# Calcular o IMC\n",
    "IMC = Peso / (Altura * Altura)\n",
    "\n",
    "# Apresentar o resultado\n",
    "print(\"Seu IMC é:\", IMC)"
   ]
  },
  {
   "cell_type": "markdown",
   "metadata": {},
   "source": [
    "Exercício 02"
   ]
  },
  {
   "cell_type": "code",
   "execution_count": 10,
   "metadata": {},
   "outputs": [
    {
     "name": "stdout",
     "output_type": "stream",
     "text": [
      "Sua nova lista é: [10, 15, 8, 56, 2]\n"
     ]
    }
   ],
   "source": [
    "# Criar uma lista vazia\n",
    "# Permita que seja informado 5 números inteiros na lista\n",
    "Lista1 = []\n",
    "Lista1.append(int(input(\"1º número (apenas números inteiros):\")))\n",
    "Lista1.append(int(input(\"2º número (apenas números inteiros):\")))\n",
    "Lista1.append(int(input(\"3º número (apenas números inteiros):\")))\n",
    "Lista1.append(int(input(\"4º número (apenas números inteiros):\")))\n",
    "Lista1.append(int(input(\"5º número (apenas números inteiros):\")))\n",
    "\n",
    "print(\"Sua nova lista é:\", Lista1)"
   ]
  },
  {
   "cell_type": "markdown",
   "metadata": {},
   "source": [
    "Exercício 03"
   ]
  },
  {
   "cell_type": "code",
   "execution_count": 11,
   "metadata": {},
   "outputs": [
    {
     "name": "stdout",
     "output_type": "stream",
     "text": [
      "Lista de nomes: ['Ana', 'João', 'Maria', 'Matheus', 'Igor', 'Rafael', 'Thiago', 'Lucas']\n"
     ]
    }
   ],
   "source": [
    "# Solicitar que seja informada uma lista de Nomes separados por vírgula e transforme essa lista em uma lista de strings.\n",
    "Nomes = input(\"Digite uma lista de Nomes separados por vírgula: \")\n",
    "Lista_nome_string = Nomes.split(\",\")\n",
    "print(\"Lista de nomes:\", Lista_nome_string)"
   ]
  }
 ],
 "metadata": {
  "kernelspec": {
   "display_name": "Python 3",
   "language": "python",
   "name": "python3"
  },
  "language_info": {
   "codemirror_mode": {
    "name": "ipython",
    "version": 3
   },
   "file_extension": ".py",
   "mimetype": "text/x-python",
   "name": "python",
   "nbconvert_exporter": "python",
   "pygments_lexer": "ipython3",
   "version": "3.11.9"
  }
 },
 "nbformat": 4,
 "nbformat_minor": 2
}
