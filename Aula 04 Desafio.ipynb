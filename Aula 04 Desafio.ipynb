{
 "cells": [
  {
   "attachments": {},
   "cell_type": "markdown",
   "metadata": {},
   "source": [
    "# Aula 4 - Fundamentos de programação III\n",
    "## DESAFIO OBRIGATÓRIO, slide 36-37\n"
   ]
  },
  {
   "cell_type": "code",
   "execution_count": 1,
   "metadata": {},
   "outputs": [
    {
     "name": "stdout",
     "output_type": "stream",
     "text": [
      "Requirement already satisfied: plyer in c:\\users\\refli\\appdata\\local\\packages\\pythonsoftwarefoundation.python.3.11_qbz5n2kfra8p0\\localcache\\local-packages\\python311\\site-packages (2.1.0)\n",
      "Note: you may need to restart the kernel to use updated packages.\n"
     ]
    },
    {
     "name": "stderr",
     "output_type": "stream",
     "text": [
      "\n",
      "[notice] A new release of pip is available: 24.0 -> 24.3.1\n",
      "[notice] To update, run: C:\\Users\\refli\\AppData\\Local\\Microsoft\\WindowsApps\\PythonSoftwareFoundation.Python.3.11_qbz5n2kfra8p0\\python.exe -m pip install --upgrade pip\n"
     ]
    }
   ],
   "source": [
    "pip install plyer"
   ]
  },
  {
   "cell_type": "code",
   "execution_count": 2,
   "metadata": {},
   "outputs": [],
   "source": [
    "#%pip install plyer \n",
    "from plyer import notification \n",
    "notification.notify(\n",
    "     title='Informar o título da notificação',\n",
    "     message='Descrição da notificação, ou seja, mensagem de alerta',\n",
    "     app_name='Nome do Alerta',\n",
    "     timeout=10\n",
    ") #Utilizado valor 10 como sugerido na atividade slide 36, aula 4 - Fundamentos de programação III"
   ]
  },
  {
   "cell_type": "markdown",
   "metadata": {},
   "source": [
    "Exemplo de utilização notification.notify"
   ]
  },
  {
   "cell_type": "code",
   "execution_count": 4,
   "metadata": {},
   "outputs": [],
   "source": [
    "#importar datetime\n",
    "#definição do Alerta\n",
    "from datetime import datetime\n",
    "\n",
    "def Alerta_default(Nivel, Base, Etapa):\n",
    "    vNow = str(datetime.now())\n",
    "    msg_texto = f\"Falha no carregamento da base {Base} na etapa {Etapa}. \\nOcorrência: {vNow}\"\n",
    "\n",
    "    if Nivel == 1:\n",
    "        texto = 'Alerta Baixo'\n",
    "    elif Nivel == 2:\n",
    "        texto = 'Alerta Médio'\n",
    "    elif Nivel  == 3:\n",
    "        texto = 'Alerta Alto'\n",
    "    else:\n",
    "        print(\"Nível\",Nivel,\"desconhecido!\")\n",
    "\n",
    "    notification.notify(\n",
    "            title=texto,\n",
    "            message=msg_texto,\n",
    "            app_name='teste',\n",
    "            timeout=10\n",
    "                        )\n",
    "#Utilizado mesmo exemplo do Desafio:\n",
    "Alerta_default(Nivel = 2, #4 informando outro nível, exemplo 4, retorna a mensagem do ELSE porém apresentar um erro na notification.notify informando que não consegue acesso ao title = texto\n",
    "                Base = \"CLIENTES\", \n",
    "                Etapa = \"EXTRACAO\"\n",
    "                )"
   ]
  },
  {
   "cell_type": "code",
   "execution_count": 5,
   "metadata": {},
   "outputs": [],
   "source": [
    "Alerta_default(Nivel = 2, #4 informando outro nível, exemplo 4, retorna a mensagem do ELSE porém apresentar um erro na notification.notify informando que não consegue acesso ao title = texto\n",
    "                Base = \"CLIENTES\", \n",
    "                Etapa = \"EXTRACAO\"\n",
    "                )"
   ]
  }
 ],
 "metadata": {
  "kernelspec": {
   "display_name": "Python 3",
   "language": "python",
   "name": "python3"
  },
  "language_info": {
   "codemirror_mode": {
    "name": "ipython",
    "version": 3
   },
   "file_extension": ".py",
   "mimetype": "text/x-python",
   "name": "python",
   "nbconvert_exporter": "python",
   "pygments_lexer": "ipython3",
   "version": "3.11.9"
  },
  "orig_nbformat": 4
 },
 "nbformat": 4,
 "nbformat_minor": 2
}
