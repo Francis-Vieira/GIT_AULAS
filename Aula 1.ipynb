{
 "cells": [
  {
   "cell_type": "code",
   "execution_count": 3,
   "metadata": {},
   "outputs": [
    {
     "name": "stdout",
     "output_type": "stream",
     "text": [
      "Hello world !\n"
     ]
    }
   ],
   "source": [
    "#Atalho para configurações [Ctrl]+\",\"\n",
    "#[+ Código] abrir caixa de código\n",
    "#[+ Markdown] abrir caixa de texto para inserir um título para próxima instrução/código\n",
    "# Ctrl + [Enter]\n",
    "# \"d+d\" deleta a caixa de código\n",
    "#print('Hello World!')\n",
    "print('Hello', 'world', '!')"
   ]
  },
  {
   "cell_type": "markdown",
   "metadata": {},
   "source": [
    "# Título"
   ]
  }
 ],
 "metadata": {
  "kernelspec": {
   "display_name": "Python 3",
   "language": "python",
   "name": "python3"
  },
  "language_info": {
   "codemirror_mode": {
    "name": "ipython",
    "version": 3
   },
   "file_extension": ".py",
   "mimetype": "text/x-python",
   "name": "python",
   "nbconvert_exporter": "python",
   "pygments_lexer": "ipython3",
   "version": "3.11.9"
  }
 },
 "nbformat": 4,
 "nbformat_minor": 2
}
